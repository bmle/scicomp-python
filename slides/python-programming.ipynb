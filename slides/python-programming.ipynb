{
 "cells": [
  {
   "cell_type": "markdown",
   "id": "a6d32009",
   "metadata": {
    "slideshow": {
     "slide_type": "slide"
    }
   },
   "source": [
    "# Programming with Python\n",
    "## Duke UPGG Informatics Orientation Bootcamp"
   ]
  },
  {
   "cell_type": "markdown",
   "id": "e9946e2c",
   "metadata": {
    "slideshow": {
     "slide_type": "skip"
    }
   },
   "source": [
    "This notebook is based on https://duke-gcb.github.io/2019-08-12-Duke/slides/python-programming.pdf"
   ]
  },
  {
   "cell_type": "markdown",
   "id": "1e95fd3b",
   "metadata": {
    "slideshow": {
     "slide_type": "subslide"
    }
   },
   "source": [
    "# Audience: Many Different Backgrounds\n",
    "1. New to programming, never seen any code before\n",
    "2. Have done some programming, but not confident with the subject\n",
    "3. Extensive programming, confident with the subject\n",
    "4. Former software engineer, professional"
   ]
  },
  {
   "cell_type": "markdown",
   "id": "b3276acf",
   "metadata": {
    "slideshow": {
     "slide_type": "subslide"
    }
   },
   "source": [
    "# Today's Lesson: Fundamentals of Programming\n",
    "- Start with the fundamentals so **everyone is on the same page**\n",
    "- **Build a foundation** for lessons later in the workshop\n",
    "\n",
    "## How does one start to learn programming?"
   ]
  },
  {
   "cell_type": "markdown",
   "id": "238c9244",
   "metadata": {
    "slideshow": {
     "slide_type": "subslide"
    }
   },
   "source": [
    "# Practice Practice Practice!\n",
    "- Just like learning how to ride a bike, you start by doing\n",
    "- No wrong choice on what programming language to start with or learn\n",
    "    - What is **important** are the **fundamental concepts** for writing code, not the specifics of the language\n",
    "    - Lots of concepts are important in any programming language you want to use"
   ]
  },
  {
   "cell_type": "markdown",
   "id": "4261081d",
   "metadata": {
    "slideshow": {
     "slide_type": "subslide"
    }
   },
   "source": [
    "# Why Python?\n",
    "- It is a **general purpose** programming language popular among **many disciplines**\n",
    "    - Ex/ scientific computing, software engineering, finance\n",
    "- Large community among scientists\n",
    "- It’s free, well-documented, and runs everywhere \n",
    "- Relatively quick to start using, but there is a lot to learn!\n",
    "\n"
   ]
  },
  {
   "cell_type": "markdown",
   "id": "83e766cb",
   "metadata": {
    "slideshow": {
     "slide_type": "subslide"
    }
   },
   "source": [
    "## Percent of pull requests on GitHub by language in Q1 of 2022.\n",
    "\n",
    "Data from: https://madnight.github.io/githut/#/pull_requests/2022/1\n",
    "\n",
    "![launchnotebook](images/top_pull_requests.png)"
   ]
  },
  {
   "cell_type": "markdown",
   "id": "a2f42fc4",
   "metadata": {
    "slideshow": {
     "slide_type": "subslide"
    }
   },
   "source": [
    "## Percent of searches for tutorials on Google\n",
    "\n",
    "Data from: https://pypl.github.io/PYPL.html\n",
    "\n",
    "![launchnotebook](images/pop_by_tutorial_search.png)"
   ]
  },
  {
   "cell_type": "markdown",
   "id": "9c96a62e",
   "metadata": {
    "slideshow": {
     "slide_type": "subslide"
    }
   },
   "source": [
    "# Goals: Write and Run Programs\n",
    "- Cover common data types and functions\n",
    "- Making decisions in a program with if statements\n",
    "- Writing for loops to apply code to a group of data\n",
    "- Writing our own functions\n",
    "- Work with files and libraries\n",
    "- **Know where to look for more help**\n",
    "\n"
   ]
  },
  {
   "cell_type": "markdown",
   "id": "020d597c",
   "metadata": {
    "slideshow": {
     "slide_type": "subslide"
    }
   },
   "source": [
    "# Expectations\n",
    "- This is **alot** of material\n",
    "    - Especially for someone new to programming\n",
    "- I will do my best to go through the material at an appropriate pace\n",
    "- **Feel free** to let me know if I am:\n",
    "    - Going too fast\n",
    "    - Need to explain something in more detail\n",
    "    - Provide more examples\n",
    "    - etc."
   ]
  },
  {
   "cell_type": "markdown",
   "id": "8f9b2a52",
   "metadata": {
    "slideshow": {
     "slide_type": "subslide"
    }
   },
   "source": [
    "# Expectations\n",
    "- If you are having technical issues, use a sticky note\n",
    "    - This will be taught with live coding, I will probably have technical issues\n",
    "- Feel free to ask me questions\n",
    "- You can also use a sticky note to signal a helper or another instructor to help you with a question\n",
    "- Or ask a neighbor"
   ]
  },
  {
   "cell_type": "markdown",
   "id": "7624161c",
   "metadata": {
    "slideshow": {
     "slide_type": "subslide"
    }
   },
   "source": [
    "# Download\n",
    "## - Download the __python-fasta.zip__ file from the course website - __Syllabus__.\n",
    "\n",
    "## - Unzip it and place on your Desktop:\n",
    "```\n",
    "python-fasta/\n",
    "  ae.fa\n",
    "  ls_orchid.fasta\n",
    "``` "
   ]
  },
  {
   "cell_type": "markdown",
   "id": "cecab074",
   "metadata": {
    "slideshow": {
     "slide_type": "subslide"
    }
   },
   "source": [
    "## 1. Open Anaconda Navigator (installed with Anaconda)\n",
    "### 2. Click to launch Jupyter Notebook\n",
    "![launchnotebook](images/launchnotebook.png)"
   ]
  },
  {
   "cell_type": "markdown",
   "id": "c807753d",
   "metadata": {
    "slideshow": {
     "slide_type": "subslide"
    }
   },
   "source": [
    "# Begin Jupyter Notebook"
   ]
  },
  {
   "cell_type": "markdown",
   "id": "f10bb5c5",
   "metadata": {
    "slideshow": {
     "slide_type": "slide"
    }
   },
   "source": [
    "# Recap and Exercise: Data Types and Variables"
   ]
  },
  {
   "cell_type": "markdown",
   "id": "1cba65fa",
   "metadata": {
    "slideshow": {
     "slide_type": "subslide"
    }
   },
   "source": [
    "# Data Types\n",
    "## Numeric:\n",
    "###  - Integer: 1, 76, 400\n",
    "###  - Float: -1.2, 0.5, 3.1415926 (Use a decimal point) \n",
    "###  - Boolean: True, False\n",
    "## Text:\n",
    "###  - Strings: ‘ACTGACAG' (Wrap in quotes)\n"
   ]
  },
  {
   "cell_type": "markdown",
   "id": "b0a6bf34",
   "metadata": {
    "slideshow": {
     "slide_type": "subslide"
    }
   },
   "source": [
    "# Strings\n",
    "### Strings can be created with quotes or double quotes:\n",
    "```\n",
    "name = 'Daniel'\n",
    "```\n",
    "### Access individual letters as strings with [] (starting at 0)\n",
    "```\n",
    "name[0] # D\n",
    "name[1] # a\n",
    "```\n",
    "### Check if a letter exists in a string\n",
    "```\n",
    "'a' in name # True\n",
    "'a' not in name # False\n",
    "```"
   ]
  },
  {
   "cell_type": "markdown",
   "id": "d1c55acb",
   "metadata": {
    "slideshow": {
     "slide_type": "subslide"
    }
   },
   "source": [
    "# Variables\n",
    "\n",
    "## Assign variables with equals\n",
    "```\n",
    "x = 2\n",
    "```\n",
    "## Access variables by name\n",
    "```\n",
    "print(x) # 2\n",
    "```\n",
    "## Variables work like sticky notes, they’re just a label\n"
   ]
  },
  {
   "cell_type": "markdown",
   "id": "e898e9f8",
   "metadata": {
    "slideshow": {
     "slide_type": "subslide"
    }
   },
   "source": [
    "# What do we know?\n",
    "## Our sequence is a string, in __seq__\n",
    "## Strings are sequences of characters, each at a numbered position (starting from 0)\n",
    "## We can extract characters as strings with square brackets __[ ]__\n",
    "## We can combine strings together with __+__"
   ]
  },
  {
   "cell_type": "markdown",
   "id": "969316e0",
   "metadata": {
    "slideshow": {
     "slide_type": "subslide"
    }
   },
   "source": [
    "# Exercise: Reverse\n",
    "## Write some code that __reverses__ the sequence in seq.\n",
    "## It should:\n",
    "### 1. Create an empty string variable __rev__\n",
    "```\n",
    "rev = ''\n",
    "```\n",
    "### 2. Loop over the items in __seq__, adding these to rev in reversed order\n",
    "### 3. Print the contents of __rev__"
   ]
  },
  {
   "cell_type": "markdown",
   "id": "6f766896",
   "metadata": {
    "slideshow": {
     "slide_type": "slide"
    }
   },
   "source": [
    "# Recap: Loops, Dictionaries, Lists, and Conditionals"
   ]
  },
  {
   "cell_type": "markdown",
   "id": "58e10cbd",
   "metadata": {
    "slideshow": {
     "slide_type": "subslide"
    }
   },
   "source": [
    "# Loops\n",
    "## Write a loop with for item in collection: ",
    "\n",
    "```\n",
    "for letter in word:\n",
    "  print(letter)\n",
    "```\n",
    "Always put a colon at the end of the line, indented lines are run for every item in the collection"
   ]
  },
  {
   "cell_type": "markdown",
   "id": "50379b81",
   "metadata": {
    "slideshow": {
     "slide_type": "subslide"
    }
   },
   "source": [
    "# Complementing\n",
    "- We can loop over all the bases in a sequence\n",
    "- Each base has a complement that we should substitute\n",
    "- We can use a __Dictionary__ to store this mappping.\n",
    "![complementing](images/complementing.png)"
   ]
  },
  {
   "cell_type": "markdown",
   "id": "afd44b3b",
   "metadata": {
    "slideshow": {
     "slide_type": "subslide"
    }
   },
   "source": [
    "# Dictionaries and Lists\n",
    "Create dictionaries with {}, lists with []\n",
    "```\n",
    "nucs = {'A': 5, 'C': 4, 'T': 8}\n",
    "counts = [5,4,8]\n",
    "```\n",
    "Both accessed with [] - dictionaries by key, lists by index\n",
    "```\n",
    "nucs['A'] # 5\n",
    "counts[0] # 5\n",
    "\n",
    "nucs['A'] = 3 # now 3\n",
    "counts[0] = 3 # now 3\n",
    "```\n"
   ]
  },
  {
   "cell_type": "markdown",
   "id": "3638f654",
   "metadata": {
    "slideshow": {
     "slide_type": "subslide"
    }
   },
   "source": [
    "# GC-content percentage\n",
    "- Calculated as (G + C) / (A + T + G + C)\n",
    "- Create a GC count variable and an ATGC count variable\n",
    "  - Loop over each base in the sequence\n",
    "    - If G, add 1 to GC count\n",
    "    - If C add 1 to GC count\n",
    "    - For everything, add 1 to ATGC count"
   ]
  },
  {
   "cell_type": "markdown",
   "id": "f5d23dc8",
   "metadata": {
    "slideshow": {
     "slide_type": "subslide"
    }
   },
   "source": [
    "# Conditionals\n",
    "```\n",
    "# Test c1 for True or False\n",
    "if c1:\n",
    "    print(\"c1 was True\")\n",
    "# c1 was False, check c2\n",
    "elif c2:\n",
    "    print(\"c1 False but c2 True\")\n",
    "# All checks False\n",
    "else:\n",
    "    print(\"Both False\")\n",
    "```"
   ]
  },
  {
   "cell_type": "markdown",
   "id": "384b9a0b",
   "metadata": {
    "slideshow": {
     "slide_type": "slide"
    }
   },
   "source": [
    "# Exercise: Using Functions\n",
    "__bases = 'adenine cytosine guanine thymine'__\n",
    "Write some code that:\n",
    "- Makes a __list__ of these bases from the string\n",
    "- __Uppercases__ the names (e.g. ['ADENINE', ...])\n",
    "- __Reverse__s the order (e.g. ['THYMINE',...])\n",
    "\n",
    "Hint: Use help(str) and help(list) to see what functions are available for strings and lists\n",
    "\n",
    "__Bonus__: Write a for loop to print the first letter of each (e.g. A, C, ...)"
   ]
  },
  {
   "cell_type": "markdown",
   "id": "651ed7e4",
   "metadata": {
    "slideshow": {
     "slide_type": "slide"
    }
   },
   "source": [
    "# Exercise: Update the Reverse Function\n",
    "Strings can be reversed with this special slicing notation: [::-1] ",
    "\n",
    "```\n",
    "s = 'abc'\n",
    "r = s[::-1]\n",
    "print(r)\n",
    "```\n",
    "__cba__\n",
    "\n",
    "Update reverse() function to use [::-1] instead of a loop.\n",
    "\n",
    "Do we need to do anything to `complement()`?  ",
    " What about `reverse_complement()`?"
   ]
  },
  {
   "cell_type": "markdown",
   "id": "c0da7bc0",
   "metadata": {
    "slideshow": {
     "slide_type": "slide"
    }
   },
   "source": [
    "# Recap and Exercise: Making Functions and Reading Files"
   ]
  },
  {
   "cell_type": "markdown",
   "id": "f45937a5",
   "metadata": {
    "slideshow": {
     "slide_type": "subslide"
    }
   },
   "source": [
    "# Functions\n",
    "Calling functions: `length = len('abc')`\n",
    "- Defining functions:\n",
    "```\n",
    "def double(x):\n",
    "    return x * 2\n",
    "```\n",
    "- Composing functions:\n",
    "```\n",
    "def reverse_complement(seq):\n",
    "    return reverse(complement(seq))\n",
    "```\n",
    "\n",
    "Avoid using global variables in functions"
   ]
  },
  {
   "cell_type": "markdown",
   "id": "bf224849",
   "metadata": {
    "slideshow": {
     "slide_type": "subslide"
    }
   },
   "source": [
    "# Reading files\n",
    "- Open a file with the `open()` function:\n",
    "```\n",
    "f = open('ae.fa')\n",
    "```\n",
    "- Loop over lines, and `strip()` each one\n",
    "```\n",
    "for line in f:\n",
    "    print(line.strip())\n",
    "```\n",
    "- Close with `f.close()`"
   ]
  },
  {
   "cell_type": "markdown",
   "id": "496ed9ba",
   "metadata": {
    "slideshow": {
     "slide_type": "subslide"
    }
   },
   "source": [
    "# Exercise: Reading a Fasta File\n",
    "\n",
    "- Write a function, `read_fasta(filename)` that:\n",
    "  - Takes 1 argument: `filename`\n",
    "  - Reads the file line-by-line\n",
    "  - Strips/combines the lines into one long line \n",
    "  - Skips the line if it contains a '>' character\n"
   ]
  },
  {
   "cell_type": "markdown",
   "id": "2d46de70",
   "metadata": {
    "slideshow": {
     "slide_type": "slide"
    }
   },
   "source": [
    "# Scripts\n",
    "- Put code in a file, give it the .py extension\n",
    "- Read command line-arguments from sys.argv:\n",
    "\n",
    "```\n",
    "import sys\n",
    "print(sys.argv[0])\n",
    "print(sys.argv[1])\n",
    "```\n",
    "\n",
    "```\n",
    "$ python script.py hello\n",
    "script.py\n",
    "hello\n",
    "```\n",
    "\n",
    "- Check the length of sys.argv to be helpful!"
   ]
  },
  {
   "cell_type": "markdown",
   "id": "8d1f351f",
   "metadata": {
    "slideshow": {
     "slide_type": "slide"
    }
   },
   "source": [
    "# Summary\n",
    "- We introduced several **data types** inculding:\n",
    "    - Integers, Floats, Strings, Dictionaries, Lists\n",
    "- How to assign values to **variables** and use them\n",
    "- Making choices using **conditional statements**\n",
    "- Writing **for loops** to perform a task over a group of data\n",
    "- Making our own **functions**\n",
    "- Work with **files** and **libraries**\n",
    "- Help function: `help()`\n"
   ]
  },
  {
   "cell_type": "markdown",
   "id": "fa3ce994",
   "metadata": {
    "slideshow": {
     "slide_type": "subslide"
    }
   },
   "source": [
    "# Questions?"
   ]
  }
 ],
 "metadata": {
  "celltoolbar": "Slideshow",
  "kernelspec": {
   "display_name": "Python 3 (ipykernel)",
   "language": "python",
   "name": "python3"
  },
  "language_info": {
   "codemirror_mode": {
    "name": "ipython",
    "version": 3
   },
   "file_extension": ".py",
   "mimetype": "text/x-python",
   "name": "python",
   "nbconvert_exporter": "python",
   "pygments_lexer": "ipython3",
   "version": "3.9.12"
  }
 },
 "nbformat": 4,
 "nbformat_minor": 5
}
